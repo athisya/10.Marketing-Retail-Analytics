{
 "cells": [
  {
   "cell_type": "code",
   "execution_count": 1,
   "id": "c5e3a120",
   "metadata": {},
   "outputs": [],
   "source": [
    "#Loading Libraries\n",
    "import pandas as pd\n",
    "import numpy as np\n",
    "import seaborn as sns\n",
    "import matplotlib.pyplot as plt\n",
    "from mlxtend.preprocessing import TransactionEncoder\n",
    "from mlxtend.frequent_patterns import apriori\n",
    "from mlxtend.frequent_patterns import association_rules"
   ]
  },
  {
   "cell_type": "code",
   "execution_count": 2,
   "id": "cb798080",
   "metadata": {},
   "outputs": [],
   "source": [
    "df = pd.read_csv(\"dataset_group.csv\")"
   ]
  },
  {
   "cell_type": "code",
   "execution_count": 3,
   "id": "92266a80",
   "metadata": {},
   "outputs": [
    {
     "data": {
      "text/html": [
       "<div>\n",
       "<style scoped>\n",
       "    .dataframe tbody tr th:only-of-type {\n",
       "        vertical-align: middle;\n",
       "    }\n",
       "\n",
       "    .dataframe tbody tr th {\n",
       "        vertical-align: top;\n",
       "    }\n",
       "\n",
       "    .dataframe thead th {\n",
       "        text-align: right;\n",
       "    }\n",
       "</style>\n",
       "<table border=\"1\" class=\"dataframe\">\n",
       "  <thead>\n",
       "    <tr style=\"text-align: right;\">\n",
       "      <th></th>\n",
       "      <th>Date</th>\n",
       "      <th>Order_id</th>\n",
       "      <th>Product</th>\n",
       "    </tr>\n",
       "  </thead>\n",
       "  <tbody>\n",
       "    <tr>\n",
       "      <th>0</th>\n",
       "      <td>2018-01-01</td>\n",
       "      <td>1</td>\n",
       "      <td>yogurt</td>\n",
       "    </tr>\n",
       "    <tr>\n",
       "      <th>1</th>\n",
       "      <td>2018-01-01</td>\n",
       "      <td>1</td>\n",
       "      <td>pork</td>\n",
       "    </tr>\n",
       "    <tr>\n",
       "      <th>2</th>\n",
       "      <td>2018-01-01</td>\n",
       "      <td>1</td>\n",
       "      <td>sandwich bags</td>\n",
       "    </tr>\n",
       "    <tr>\n",
       "      <th>3</th>\n",
       "      <td>2018-01-01</td>\n",
       "      <td>1</td>\n",
       "      <td>lunch meat</td>\n",
       "    </tr>\n",
       "    <tr>\n",
       "      <th>4</th>\n",
       "      <td>2018-01-01</td>\n",
       "      <td>1</td>\n",
       "      <td>all- purpose</td>\n",
       "    </tr>\n",
       "  </tbody>\n",
       "</table>\n",
       "</div>"
      ],
      "text/plain": [
       "         Date  Order_id        Product\n",
       "0  2018-01-01         1         yogurt\n",
       "1  2018-01-01         1           pork\n",
       "2  2018-01-01         1  sandwich bags\n",
       "3  2018-01-01         1     lunch meat\n",
       "4  2018-01-01         1   all- purpose"
      ]
     },
     "execution_count": 3,
     "metadata": {},
     "output_type": "execute_result"
    }
   ],
   "source": [
    "df.head()"
   ]
  },
  {
   "cell_type": "code",
   "execution_count": 4,
   "id": "362fc726",
   "metadata": {},
   "outputs": [
    {
     "data": {
      "text/plain": [
       "(20641, 3)"
      ]
     },
     "execution_count": 4,
     "metadata": {},
     "output_type": "execute_result"
    }
   ],
   "source": [
    "df.shape"
   ]
  },
  {
   "cell_type": "code",
   "execution_count": 5,
   "id": "b682dd1a",
   "metadata": {},
   "outputs": [
    {
     "name": "stdout",
     "output_type": "stream",
     "text": [
      "<class 'pandas.core.frame.DataFrame'>\n",
      "RangeIndex: 20641 entries, 0 to 20640\n",
      "Data columns (total 3 columns):\n",
      " #   Column    Non-Null Count  Dtype \n",
      "---  ------    --------------  ----- \n",
      " 0   Date      20641 non-null  object\n",
      " 1   Order_id  20641 non-null  int64 \n",
      " 2   Product   20641 non-null  object\n",
      "dtypes: int64(1), object(2)\n",
      "memory usage: 483.9+ KB\n"
     ]
    }
   ],
   "source": [
    "df.info()"
   ]
  },
  {
   "cell_type": "code",
   "execution_count": 6,
   "id": "2b12cd88",
   "metadata": {},
   "outputs": [
    {
     "data": {
      "text/html": [
       "<div>\n",
       "<style scoped>\n",
       "    .dataframe tbody tr th:only-of-type {\n",
       "        vertical-align: middle;\n",
       "    }\n",
       "\n",
       "    .dataframe tbody tr th {\n",
       "        vertical-align: top;\n",
       "    }\n",
       "\n",
       "    .dataframe thead th {\n",
       "        text-align: right;\n",
       "    }\n",
       "</style>\n",
       "<table border=\"1\" class=\"dataframe\">\n",
       "  <thead>\n",
       "    <tr style=\"text-align: right;\">\n",
       "      <th></th>\n",
       "      <th>Date</th>\n",
       "      <th>Order_id</th>\n",
       "      <th>Product</th>\n",
       "    </tr>\n",
       "  </thead>\n",
       "  <tbody>\n",
       "    <tr>\n",
       "      <th>count</th>\n",
       "      <td>20641</td>\n",
       "      <td>20641.000000</td>\n",
       "      <td>20641</td>\n",
       "    </tr>\n",
       "    <tr>\n",
       "      <th>unique</th>\n",
       "      <td>603</td>\n",
       "      <td>NaN</td>\n",
       "      <td>37</td>\n",
       "    </tr>\n",
       "    <tr>\n",
       "      <th>top</th>\n",
       "      <td>2019-02-08</td>\n",
       "      <td>NaN</td>\n",
       "      <td>poultry</td>\n",
       "    </tr>\n",
       "    <tr>\n",
       "      <th>freq</th>\n",
       "      <td>183</td>\n",
       "      <td>NaN</td>\n",
       "      <td>640</td>\n",
       "    </tr>\n",
       "    <tr>\n",
       "      <th>mean</th>\n",
       "      <td>NaN</td>\n",
       "      <td>575.986289</td>\n",
       "      <td>NaN</td>\n",
       "    </tr>\n",
       "    <tr>\n",
       "      <th>std</th>\n",
       "      <td>NaN</td>\n",
       "      <td>328.557078</td>\n",
       "      <td>NaN</td>\n",
       "    </tr>\n",
       "    <tr>\n",
       "      <th>min</th>\n",
       "      <td>NaN</td>\n",
       "      <td>1.000000</td>\n",
       "      <td>NaN</td>\n",
       "    </tr>\n",
       "    <tr>\n",
       "      <th>25%</th>\n",
       "      <td>NaN</td>\n",
       "      <td>292.000000</td>\n",
       "      <td>NaN</td>\n",
       "    </tr>\n",
       "    <tr>\n",
       "      <th>50%</th>\n",
       "      <td>NaN</td>\n",
       "      <td>581.000000</td>\n",
       "      <td>NaN</td>\n",
       "    </tr>\n",
       "    <tr>\n",
       "      <th>75%</th>\n",
       "      <td>NaN</td>\n",
       "      <td>862.000000</td>\n",
       "      <td>NaN</td>\n",
       "    </tr>\n",
       "    <tr>\n",
       "      <th>max</th>\n",
       "      <td>NaN</td>\n",
       "      <td>1139.000000</td>\n",
       "      <td>NaN</td>\n",
       "    </tr>\n",
       "  </tbody>\n",
       "</table>\n",
       "</div>"
      ],
      "text/plain": [
       "              Date      Order_id  Product\n",
       "count        20641  20641.000000    20641\n",
       "unique         603           NaN       37\n",
       "top     2019-02-08           NaN  poultry\n",
       "freq           183           NaN      640\n",
       "mean           NaN    575.986289      NaN\n",
       "std            NaN    328.557078      NaN\n",
       "min            NaN      1.000000      NaN\n",
       "25%            NaN    292.000000      NaN\n",
       "50%            NaN    581.000000      NaN\n",
       "75%            NaN    862.000000      NaN\n",
       "max            NaN   1139.000000      NaN"
      ]
     },
     "execution_count": 6,
     "metadata": {},
     "output_type": "execute_result"
    }
   ],
   "source": [
    "df.describe(include=\"all\")"
   ]
  },
  {
   "cell_type": "code",
   "execution_count": 7,
   "id": "8c0e4be6",
   "metadata": {},
   "outputs": [],
   "source": [
    "df.drop_duplicates(keep='first',inplace=True)"
   ]
  },
  {
   "cell_type": "code",
   "execution_count": null,
   "id": "d5b2d245",
   "metadata": {},
   "outputs": [],
   "source": []
  },
  {
   "cell_type": "code",
   "execution_count": 8,
   "id": "3a887921",
   "metadata": {},
   "outputs": [
    {
     "data": {
      "text/plain": [
       "(15911, 3)"
      ]
     },
     "execution_count": 8,
     "metadata": {},
     "output_type": "execute_result"
    }
   ],
   "source": [
    "df.shape"
   ]
  },
  {
   "cell_type": "code",
   "execution_count": null,
   "id": "f38bbfe5",
   "metadata": {},
   "outputs": [],
   "source": []
  },
  {
   "cell_type": "code",
   "execution_count": null,
   "id": "dbca3a7c",
   "metadata": {},
   "outputs": [],
   "source": []
  },
  {
   "cell_type": "code",
   "execution_count": null,
   "id": "02d012f4",
   "metadata": {},
   "outputs": [],
   "source": []
  },
  {
   "cell_type": "code",
   "execution_count": null,
   "id": "76734353",
   "metadata": {},
   "outputs": [],
   "source": []
  },
  {
   "cell_type": "code",
   "execution_count": 9,
   "id": "36314418",
   "metadata": {},
   "outputs": [],
   "source": [
    "df['Product'] = df['Product'].str.lower()"
   ]
  },
  {
   "cell_type": "code",
   "execution_count": 10,
   "id": "02ab0dbf",
   "metadata": {},
   "outputs": [],
   "source": [
    "df = df.drop(df[df.Product == 'none'].index)"
   ]
  },
  {
   "cell_type": "code",
   "execution_count": 11,
   "id": "90545bb6",
   "metadata": {},
   "outputs": [
    {
     "data": {
      "text/plain": [
       "(15911, 3)"
      ]
     },
     "execution_count": 11,
     "metadata": {},
     "output_type": "execute_result"
    }
   ],
   "source": [
    "df.shape"
   ]
  },
  {
   "cell_type": "code",
   "execution_count": 12,
   "id": "f5ba3118",
   "metadata": {},
   "outputs": [
    {
     "data": {
      "text/plain": [
       "2019-02-08    138\n",
       "2019-02-20    106\n",
       "2018-03-06     99\n",
       "2018-05-17     92\n",
       "2018-03-01     91\n",
       "             ... \n",
       "2019-03-11      4\n",
       "2019-09-05      4\n",
       "2018-04-04      4\n",
       "2020-02-26      3\n",
       "2018-09-24      3\n",
       "Name: Date, Length: 603, dtype: int64"
      ]
     },
     "execution_count": 12,
     "metadata": {},
     "output_type": "execute_result"
    }
   ],
   "source": [
    "df.Date.value_counts()"
   ]
  },
  {
   "cell_type": "code",
   "execution_count": 13,
   "id": "916c3eba",
   "metadata": {},
   "outputs": [
    {
     "data": {
      "text/plain": [
       "311     26\n",
       "450     25\n",
       "648     25\n",
       "955     24\n",
       "866     24\n",
       "        ..\n",
       "243      3\n",
       "1139     3\n",
       "1044     3\n",
       "523      3\n",
       "408      3\n",
       "Name: Order_id, Length: 1139, dtype: int64"
      ]
     },
     "execution_count": 13,
     "metadata": {},
     "output_type": "execute_result"
    }
   ],
   "source": [
    "df.Order_id.value_counts()"
   ]
  },
  {
   "cell_type": "code",
   "execution_count": 14,
   "id": "7434b3ae",
   "metadata": {},
   "outputs": [
    {
     "data": {
      "text/plain": [
       "poultry                         480\n",
       "ice cream                       454\n",
       "cereals                         451\n",
       "lunch meat                      450\n",
       "waffles                         449\n",
       "soda                            445\n",
       "cheeses                         445\n",
       "eggs                            444\n",
       "dinner rolls                    443\n",
       "dishwashing liquid/detergent    442\n",
       "bagels                          439\n",
       "aluminum foil                   438\n",
       "yogurt                          438\n",
       "milk                            433\n",
       "soap                            432\n",
       "coffee/tea                      432\n",
       "toilet paper                    431\n",
       "laundry detergent               431\n",
       "juice                           429\n",
       "mixes                           428\n",
       "individual meals                428\n",
       "beef                            427\n",
       "all- purpose                    427\n",
       "spaghetti sauce                 425\n",
       "pasta                           423\n",
       "ketchup                         423\n",
       "fruits                          422\n",
       "tortillas                       421\n",
       "shampoo                         420\n",
       "sandwich bags                   419\n",
       "butter                          419\n",
       "paper towels                    413\n",
       "sugar                           411\n",
       "pork                            405\n",
       "flour                           402\n",
       "sandwich loaves                 398\n",
       "hand soap                       394\n",
       "Name: Product, dtype: int64"
      ]
     },
     "execution_count": 14,
     "metadata": {},
     "output_type": "execute_result"
    }
   ],
   "source": [
    "df.Product.value_counts()"
   ]
  },
  {
   "cell_type": "code",
   "execution_count": 15,
   "id": "1421039c",
   "metadata": {},
   "outputs": [
    {
     "data": {
      "image/png": "[encoded data removed]",
      "text/plain": [
       "<Figure size 864x504 with 1 Axes>"
      ]
     },
     "metadata": {
      "needs_background": "light"
     },
     "output_type": "display_data"
    }
   ],
   "source": [
    "df['Product'].value_counts().sort_values(ascending=False).head(20).plot(kind='bar',figsize=(12,7));"
   ]
  },
  {
   "cell_type": "code",
   "execution_count": 16,
   "id": "b54d7368",
   "metadata": {},
   "outputs": [],
   "source": [
    "basket=df.groupby(['Order_id', 'Product'])['Product'].count().unstack().reset_index().fillna(0).set_index('Order_id')"
   ]
  },
  {
   "cell_type": "code",
   "execution_count": 17,
   "id": "fea3de52",
   "metadata": {},
   "outputs": [
    {
     "data": {
      "text/html": [
       "<div>\n",
       "<style scoped>\n",
       "    .dataframe tbody tr th:only-of-type {\n",
       "        vertical-align: middle;\n",
       "    }\n",
       "\n",
       "    .dataframe tbody tr th {\n",
       "        vertical-align: top;\n",
       "    }\n",
       "\n",
       "    .dataframe thead th {\n",
       "        text-align: right;\n",
       "    }\n",
       "</style>\n",
       "<table border=\"1\" class=\"dataframe\">\n",
       "  <thead>\n",
       "    <tr style=\"text-align: right;\">\n",
       "      <th>Product</th>\n",
       "      <th>all- purpose</th>\n",
       "      <th>aluminum foil</th>\n",
       "      <th>bagels</th>\n",
       "      <th>beef</th>\n",
       "      <th>butter</th>\n",
       "      <th>cereals</th>\n",
       "      <th>cheeses</th>\n",
       "      <th>coffee/tea</th>\n",
       "      <th>dinner rolls</th>\n",
       "      <th>dishwashing liquid/detergent</th>\n",
       "      <th>...</th>\n",
       "      <th>sandwich loaves</th>\n",
       "      <th>shampoo</th>\n",
       "      <th>soap</th>\n",
       "      <th>soda</th>\n",
       "      <th>spaghetti sauce</th>\n",
       "      <th>sugar</th>\n",
       "      <th>toilet paper</th>\n",
       "      <th>tortillas</th>\n",
       "      <th>waffles</th>\n",
       "      <th>yogurt</th>\n",
       "    </tr>\n",
       "    <tr>\n",
       "      <th>Order_id</th>\n",
       "      <th></th>\n",
       "      <th></th>\n",
       "      <th></th>\n",
       "      <th></th>\n",
       "      <th></th>\n",
       "      <th></th>\n",
       "      <th></th>\n",
       "      <th></th>\n",
       "      <th></th>\n",
       "      <th></th>\n",
       "      <th></th>\n",
       "      <th></th>\n",
       "      <th></th>\n",
       "      <th></th>\n",
       "      <th></th>\n",
       "      <th></th>\n",
       "      <th></th>\n",
       "      <th></th>\n",
       "      <th></th>\n",
       "      <th></th>\n",
       "      <th></th>\n",
       "    </tr>\n",
       "  </thead>\n",
       "  <tbody>\n",
       "    <tr>\n",
       "      <th>1</th>\n",
       "      <td>1.0</td>\n",
       "      <td>1.0</td>\n",
       "      <td>0.0</td>\n",
       "      <td>1.0</td>\n",
       "      <td>1.0</td>\n",
       "      <td>0.0</td>\n",
       "      <td>0.0</td>\n",
       "      <td>0.0</td>\n",
       "      <td>1.0</td>\n",
       "      <td>0.0</td>\n",
       "      <td>...</td>\n",
       "      <td>0.0</td>\n",
       "      <td>1.0</td>\n",
       "      <td>1.0</td>\n",
       "      <td>1.0</td>\n",
       "      <td>0.0</td>\n",
       "      <td>0.0</td>\n",
       "      <td>0.0</td>\n",
       "      <td>0.0</td>\n",
       "      <td>0.0</td>\n",
       "      <td>1.0</td>\n",
       "    </tr>\n",
       "    <tr>\n",
       "      <th>2</th>\n",
       "      <td>0.0</td>\n",
       "      <td>1.0</td>\n",
       "      <td>0.0</td>\n",
       "      <td>0.0</td>\n",
       "      <td>0.0</td>\n",
       "      <td>1.0</td>\n",
       "      <td>1.0</td>\n",
       "      <td>0.0</td>\n",
       "      <td>0.0</td>\n",
       "      <td>1.0</td>\n",
       "      <td>...</td>\n",
       "      <td>0.0</td>\n",
       "      <td>1.0</td>\n",
       "      <td>0.0</td>\n",
       "      <td>0.0</td>\n",
       "      <td>0.0</td>\n",
       "      <td>0.0</td>\n",
       "      <td>1.0</td>\n",
       "      <td>1.0</td>\n",
       "      <td>1.0</td>\n",
       "      <td>1.0</td>\n",
       "    </tr>\n",
       "    <tr>\n",
       "      <th>3</th>\n",
       "      <td>0.0</td>\n",
       "      <td>0.0</td>\n",
       "      <td>1.0</td>\n",
       "      <td>0.0</td>\n",
       "      <td>0.0</td>\n",
       "      <td>1.0</td>\n",
       "      <td>1.0</td>\n",
       "      <td>0.0</td>\n",
       "      <td>1.0</td>\n",
       "      <td>0.0</td>\n",
       "      <td>...</td>\n",
       "      <td>1.0</td>\n",
       "      <td>1.0</td>\n",
       "      <td>1.0</td>\n",
       "      <td>1.0</td>\n",
       "      <td>1.0</td>\n",
       "      <td>0.0</td>\n",
       "      <td>1.0</td>\n",
       "      <td>0.0</td>\n",
       "      <td>0.0</td>\n",
       "      <td>0.0</td>\n",
       "    </tr>\n",
       "    <tr>\n",
       "      <th>4</th>\n",
       "      <td>1.0</td>\n",
       "      <td>0.0</td>\n",
       "      <td>0.0</td>\n",
       "      <td>0.0</td>\n",
       "      <td>0.0</td>\n",
       "      <td>1.0</td>\n",
       "      <td>0.0</td>\n",
       "      <td>0.0</td>\n",
       "      <td>0.0</td>\n",
       "      <td>0.0</td>\n",
       "      <td>...</td>\n",
       "      <td>0.0</td>\n",
       "      <td>0.0</td>\n",
       "      <td>0.0</td>\n",
       "      <td>1.0</td>\n",
       "      <td>0.0</td>\n",
       "      <td>0.0</td>\n",
       "      <td>1.0</td>\n",
       "      <td>0.0</td>\n",
       "      <td>0.0</td>\n",
       "      <td>0.0</td>\n",
       "    </tr>\n",
       "    <tr>\n",
       "      <th>5</th>\n",
       "      <td>1.0</td>\n",
       "      <td>0.0</td>\n",
       "      <td>0.0</td>\n",
       "      <td>0.0</td>\n",
       "      <td>0.0</td>\n",
       "      <td>0.0</td>\n",
       "      <td>0.0</td>\n",
       "      <td>0.0</td>\n",
       "      <td>1.0</td>\n",
       "      <td>0.0</td>\n",
       "      <td>...</td>\n",
       "      <td>1.0</td>\n",
       "      <td>0.0</td>\n",
       "      <td>0.0</td>\n",
       "      <td>1.0</td>\n",
       "      <td>1.0</td>\n",
       "      <td>0.0</td>\n",
       "      <td>1.0</td>\n",
       "      <td>1.0</td>\n",
       "      <td>1.0</td>\n",
       "      <td>1.0</td>\n",
       "    </tr>\n",
       "  </tbody>\n",
       "</table>\n",
       "<p>5 rows × 37 columns</p>\n",
       "</div>"
      ],
      "text/plain": [
       "Product   all- purpose  aluminum foil  bagels  beef  butter  cereals  cheeses  \\\n",
       "Order_id                                                                        \n",
       "1                  1.0            1.0     0.0   1.0     1.0      0.0      0.0   \n",
       "2                  0.0            1.0     0.0   0.0     0.0      1.0      1.0   \n",
       "3                  0.0            0.0     1.0   0.0     0.0      1.0      1.0   \n",
       "4                  1.0            0.0     0.0   0.0     0.0      1.0      0.0   \n",
       "5                  1.0            0.0     0.0   0.0     0.0      0.0      0.0   \n",
       "\n",
       "Product   coffee/tea  dinner rolls  dishwashing liquid/detergent  ...  \\\n",
       "Order_id                                                          ...   \n",
       "1                0.0           1.0                           0.0  ...   \n",
       "2                0.0           0.0                           1.0  ...   \n",
       "3                0.0           1.0                           0.0  ...   \n",
       "4                0.0           0.0                           0.0  ...   \n",
       "5                0.0           1.0                           0.0  ...   \n",
       "\n",
       "Product   sandwich loaves  shampoo  soap  soda  spaghetti sauce  sugar  \\\n",
       "Order_id                                                                 \n",
       "1                     0.0      1.0   1.0   1.0              0.0    0.0   \n",
       "2                     0.0      1.0   0.0   0.0              0.0    0.0   \n",
       "3                     1.0      1.0   1.0   1.0              1.0    0.0   \n",
       "4                     0.0      0.0   0.0   1.0              0.0    0.0   \n",
       "5                     1.0      0.0   0.0   1.0              1.0    0.0   \n",
       "\n",
       "Product   toilet paper  tortillas  waffles  yogurt  \n",
       "Order_id                                            \n",
       "1                  0.0        0.0      0.0     1.0  \n",
       "2                  1.0        1.0      1.0     1.0  \n",
       "3                  1.0        0.0      0.0     0.0  \n",
       "4                  1.0        0.0      0.0     0.0  \n",
       "5                  1.0        1.0      1.0     1.0  \n",
       "\n",
       "[5 rows x 37 columns]"
      ]
     },
     "execution_count": 17,
     "metadata": {},
     "output_type": "execute_result"
    }
   ],
   "source": [
    "basket.head()"
   ]
  },
  {
   "cell_type": "code",
   "execution_count": 18,
   "id": "f3508d15",
   "metadata": {},
   "outputs": [],
   "source": [
    "def encode_zero_one(x):\n",
    "    if x <= 0:\n",
    "        return 0\n",
    "    if x >= 1:\n",
    "        return 1"
   ]
  },
  {
   "cell_type": "code",
   "execution_count": 19,
   "id": "1bdce5c1",
   "metadata": {},
   "outputs": [],
   "source": [
    "basket=basket.applymap(encode_zero_one)"
   ]
  },
  {
   "cell_type": "code",
   "execution_count": 20,
   "id": "833bd342",
   "metadata": {},
   "outputs": [
    {
     "data": {
      "text/html": [
       "<div>\n",
       "<style scoped>\n",
       "    .dataframe tbody tr th:only-of-type {\n",
       "        vertical-align: middle;\n",
       "    }\n",
       "\n",
       "    .dataframe tbody tr th {\n",
       "        vertical-align: top;\n",
       "    }\n",
       "\n",
       "    .dataframe thead th {\n",
       "        text-align: right;\n",
       "    }\n",
       "</style>\n",
       "<table border=\"1\" class=\"dataframe\">\n",
       "  <thead>\n",
       "    <tr style=\"text-align: right;\">\n",
       "      <th></th>\n",
       "      <th>support</th>\n",
       "      <th>itemsets</th>\n",
       "    </tr>\n",
       "  </thead>\n",
       "  <tbody>\n",
       "    <tr>\n",
       "      <th>0</th>\n",
       "      <td>0.374890</td>\n",
       "      <td>(all- purpose)</td>\n",
       "    </tr>\n",
       "    <tr>\n",
       "      <th>1</th>\n",
       "      <td>0.384548</td>\n",
       "      <td>(aluminum foil)</td>\n",
       "    </tr>\n",
       "    <tr>\n",
       "      <th>2</th>\n",
       "      <td>0.385426</td>\n",
       "      <td>(bagels)</td>\n",
       "    </tr>\n",
       "    <tr>\n",
       "      <th>3</th>\n",
       "      <td>0.374890</td>\n",
       "      <td>(beef)</td>\n",
       "    </tr>\n",
       "    <tr>\n",
       "      <th>4</th>\n",
       "      <td>0.367867</td>\n",
       "      <td>(butter)</td>\n",
       "    </tr>\n",
       "    <tr>\n",
       "      <th>...</th>\n",
       "      <td>...</td>\n",
       "      <td>...</td>\n",
       "    </tr>\n",
       "    <tr>\n",
       "      <th>610567</th>\n",
       "      <td>0.010536</td>\n",
       "      <td>(soda, sandwich bags, soap, pork, spaghetti sa...</td>\n",
       "    </tr>\n",
       "    <tr>\n",
       "      <th>610568</th>\n",
       "      <td>0.011414</td>\n",
       "      <td>(soda, sandwich bags, waffles, soap, spaghetti...</td>\n",
       "    </tr>\n",
       "    <tr>\n",
       "      <th>610569</th>\n",
       "      <td>0.010536</td>\n",
       "      <td>(soda, soap, poultry, laundry detergent, sandw...</td>\n",
       "    </tr>\n",
       "    <tr>\n",
       "      <th>610570</th>\n",
       "      <td>0.011414</td>\n",
       "      <td>(sandwich bags, milk, poultry, yogurt, mixes, ...</td>\n",
       "    </tr>\n",
       "    <tr>\n",
       "      <th>610571</th>\n",
       "      <td>0.010536</td>\n",
       "      <td>(sandwich bags, tortillas, milk, yogurt, mixes...</td>\n",
       "    </tr>\n",
       "  </tbody>\n",
       "</table>\n",
       "<p>610572 rows × 2 columns</p>\n",
       "</div>"
      ],
      "text/plain": [
       "         support                                           itemsets\n",
       "0       0.374890                                     (all- purpose)\n",
       "1       0.384548                                    (aluminum foil)\n",
       "2       0.385426                                           (bagels)\n",
       "3       0.374890                                             (beef)\n",
       "4       0.367867                                           (butter)\n",
       "...          ...                                                ...\n",
       "610567  0.010536  (soda, sandwich bags, soap, pork, spaghetti sa...\n",
       "610568  0.011414  (soda, sandwich bags, waffles, soap, spaghetti...\n",
       "610569  0.010536  (soda, soap, poultry, laundry detergent, sandw...\n",
       "610570  0.011414  (sandwich bags, milk, poultry, yogurt, mixes, ...\n",
       "610571  0.010536  (sandwich bags, tortillas, milk, yogurt, mixes...\n",
       "\n",
       "[610572 rows x 2 columns]"
      ]
     },
     "execution_count": 20,
     "metadata": {},
     "output_type": "execute_result"
    }
   ],
   "source": [
    "#Find the support for itemsets using Apriori\n",
    "itemsets = apriori(basket, min_support = 0.01, use_colnames = True, low_memory=True)\n",
    "itemsets"
   ]
  },
  {
   "cell_type": "code",
   "execution_count": 21,
   "id": "e734d416",
   "metadata": {},
   "outputs": [
    {
     "name": "stderr",
     "output_type": "stream",
     "text": [
      "C:\\Users\\athisya\\anaconda3\\lib\\site-packages\\seaborn\\_decorators.py:36: FutureWarning: Pass the following variables as keyword args: x, y. From version 0.12, the only valid positional argument will be `data`, and passing other arguments without an explicit keyword will result in an error or misinterpretation.\n",
      "  warnings.warn(\n"
     ]
    },
    {
     "data": {
      "image/png": "[encoded data removed]",
      "text/plain": [
       "<Figure size 864x504 with 1 Axes>"
      ]
     },
     "metadata": {
      "needs_background": "light"
     },
     "output_type": "display_data"
    }
   ],
   "source": [
    "#Visualizing the Support of itemsets\n",
    "plt.figure(figsize=(12,7))\n",
    "sns.barplot(itemsets.sort_values('support',ascending=False).iloc[0:20,1],\n",
    "            itemsets.sort_values('support',ascending=False).iloc[0:20,0])\n",
    "plt.xticks(rotation=90)\n",
    "plt.show()"
   ]
  },
  {
   "cell_type": "code",
   "execution_count": null,
   "id": "a7d7a520",
   "metadata": {},
   "outputs": [],
   "source": [
    "#Check the rules using association_rules\n",
    "basket = association_rules(itemsets, metric =\"lift\") \n",
    "basket = basket.sort_values(['lift','confidence'], ascending =[False, False]) "
   ]
  },
  {
   "cell_type": "code",
   "execution_count": null,
   "id": "29bdfa1b",
   "metadata": {},
   "outputs": [],
   "source": [
    "basket.head(20)"
   ]
  },
  {
   "cell_type": "code",
   "execution_count": null,
   "id": "8b308c25",
   "metadata": {},
   "outputs": [],
   "source": []
  }
 ],
 "metadata": {
  "kernelspec": {
   "display_name": "Python 3",
   "language": "python",
   "name": "python3"
  },
  "language_info": {
   "codemirror_mode": {
    "name": "ipython",
    "version": 3
   },
   "file_extension": ".py",
   "mimetype": "text/x-python",
   "name": "python",
   "nbconvert_exporter": "python",
   "pygments_lexer": "ipython3",
   "version": "3.8.5"
  }
 },
 "nbformat": 4,
 "nbformat_minor": 5
}
